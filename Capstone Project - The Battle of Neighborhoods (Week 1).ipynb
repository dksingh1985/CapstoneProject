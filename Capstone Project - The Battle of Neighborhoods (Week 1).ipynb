{
 "cells": [
  {
   "cell_type": "markdown",
   "metadata": {},
   "source": [
    "<center><h1>Prime location in Lucknow, India for Real Estate investments</h1>\n",
    "<h7>Dheerendra Kumar Singh,</h7><br/>\n",
    "Aug 3, 2020</center>"
   ]
  },
  {
   "cell_type": "markdown",
   "metadata": {},
   "source": [
    "<h4>Introduction:</h4> \n",
    "A Real Estate investor Mr. XYZ from Mumbai, India has decided to expand his business in other parts of country. His business is to Buy, Renovate and Sell Real Estate properties. He decided to expand his business in Lucknow, the capital of UP, India. Since this is a new location for him, he decided to take help from professional data scientist to explore the prime location for Real Estate Investment in Lucknow.<br/>\n",
    "About Lucknow : <a hreff=\"https://en.wikipedia.org/wiki/Lucknow\">https://en.wikipedia.org/wiki/Lucknow</a>"
   ]
  },
  {
   "cell_type": "markdown",
   "metadata": {},
   "source": [
    "<h4>Business Problem:</h4>\n",
    "The task is to locate the hotspot for Real Estate investment in Lucknow, India. "
   ]
  },
  {
   "cell_type": "markdown",
   "metadata": {},
   "source": [
    "<h4>Audience:</h4>\n",
    "Mr. XYZ from Mumbai, India is stakeholder who want to expand his business to new place. Before investing, Mr. XYZ want to explore the neighborhood and would be sure that his investment is profitable. "
   ]
  },
  {
   "cell_type": "markdown",
   "metadata": {},
   "source": [
    "<h4>Data acquisition:</h4>\n",
    "<ol>\n",
    "<li>Postal code data with coordinates.\n",
    "Source: IN.zip file from http://www.geonames.org/export/zip/<br/>\n",
    "    IN.zip file consist of tab seperated text file i.e. IN.txt. The file consists of Country Code, Postal Code, Location Name, State Name, State Code, City Name, District Name and Coordinates</li>\n",
    "<li>FourSquare API to explore the location</li>\n",
    "<li>Folium API to visualize result on map.</li>\n",
    "</ol>"
   ]
  },
  {
   "cell_type": "markdown",
   "metadata": {},
   "source": [
    "<h4>Methodology:</h4>\n",
    "Real Estate that are closer to the School, Hospital, Restaurant, Clubs, Gym, Airport, Bus transport, etc are sell at a higher price and having more demand than others. The majority of people want to live close to where they work, shop and go out to enjoy themselves. We will use FourSquare API to explore the venues for each neighborhood\n"
   ]
  },
  {
   "cell_type": "code",
   "execution_count": null,
   "metadata": {},
   "outputs": [],
   "source": []
  }
 ],
 "metadata": {
  "kernelspec": {
   "display_name": "Python 3",
   "language": "python",
   "name": "python3"
  },
  "language_info": {
   "codemirror_mode": {
    "name": "ipython",
    "version": 3
   },
   "file_extension": ".py",
   "mimetype": "text/x-python",
   "name": "python",
   "nbconvert_exporter": "python",
   "pygments_lexer": "ipython3",
   "version": "3.6.8"
  }
 },
 "nbformat": 4,
 "nbformat_minor": 4
}
